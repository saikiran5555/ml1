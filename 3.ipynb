{
 "cells": [
  {
   "cell_type": "markdown",
   "id": "cd22196b",
   "metadata": {},
   "source": [
    "Unsupervised Learning:\n",
    "Unsupervised learning is a type of machine learning where the algorithm is given data without explicit instructions on what to do with it. The system tries to learn the patterns and structure from the data without labeled outputs. The goal is often to find hidden patterns or groupings within the data.\n",
    "\n",
    "Examples of Unsupervised Learning:\n",
    "\n",
    "Clustering:\n",
    "\n",
    "Grouping similar data points together without knowing the specific categories. Examples include K-means clustering for customer segmentation.\n",
    "Dimensionality Reduction:\n",
    "\n",
    "Techniques like Principal Component Analysis (PCA) reduce the number of features in a dataset while preserving its essential characteristics.\n",
    "Anomaly Detection:\n",
    "\n",
    "Identifying unusual patterns or outliers in data, such as detecting fraudulent transactions in financial data.\n",
    "Association Rule Learning:\n",
    "\n",
    "Discovering interesting relationships or associations between variables in large datasets, like identifying items frequently bought together in a retail setting.\n",
    "Generative Models:\n",
    "\n",
    "Building models that can generate new data samples that resemble the training data. Generative Adversarial Networks (GANs) are an example.\n",
    "Density Estimation:\n",
    "\n",
    "Estimating the probability density function of the underlying data distribution, which can be useful for understanding the structure of the data.\n",
    "Word Embeddings:\n",
    "\n",
    "Learning representations of words in a way that words with similar meanings have similar representations. Word2Vec and GloVe are examples of unsupervised learning for natural language processing.\n",
    "Hierarchical Clustering:\n",
    "\n",
    "Organizing data into a hierarchy of clusters, creating a tree-like structure that can be useful for understanding relationships between different levels of granularity."
   ]
  }
 ],
 "metadata": {
  "kernelspec": {
   "display_name": "Python 3 (ipykernel)",
   "language": "python",
   "name": "python3"
  },
  "language_info": {
   "codemirror_mode": {
    "name": "ipython",
    "version": 3
   },
   "file_extension": ".py",
   "mimetype": "text/x-python",
   "name": "python",
   "nbconvert_exporter": "python",
   "pygments_lexer": "ipython3",
   "version": "3.10.9"
  }
 },
 "nbformat": 4,
 "nbformat_minor": 5
}
