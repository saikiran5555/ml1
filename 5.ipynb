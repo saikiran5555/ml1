{
 "cells": [
  {
   "cell_type": "markdown",
   "id": "1638416f",
   "metadata": {},
   "source": [
    "The main differences between supervised learning, unsupervised learning, and semi-supervised learning lie in the type of data they use and the goals they aim to achieve:\n",
    "\n",
    "Supervised Learning:\n",
    "\n",
    "Data Type: Requires labeled training data, where each input is associated with a corresponding output or target.\n",
    "Goal: Trains a model to map input data to the correct output based on the labeled examples provided during training.\n",
    "Use Cases: Classification and regression tasks where the goal is to predict or classify new, unseen data based on past labeled examples.\n",
    "Unsupervised Learning:\n",
    "\n",
    "Data Type: Involves unlabeled data, where the algorithm is not provided with explicit output labels during training.\n",
    "Goal: Explores the inherent structure or patterns in the data without specific guidance, such as grouping similar data points or reducing dimensionality.\n",
    "Use Cases: Clustering, dimensionality reduction, anomaly detection, and discovering hidden patterns within the data.\n",
    "Semi-Supervised Learning:\n",
    "\n",
    "Data Type: Utilizes a combination of labeled and unlabeled data during training.\n",
    "Goal: Aims to leverage the advantages of both labeled and unlabeled data, often with limited labeled examples, to improve model performance.\n",
    "Use Cases: Especially useful when obtaining a large labeled dataset is challenging or expensive. It combines the benefits of supervised and unsupervised learning."
   ]
  }
 ],
 "metadata": {
  "kernelspec": {
   "display_name": "Python 3 (ipykernel)",
   "language": "python",
   "name": "python3"
  },
  "language_info": {
   "codemirror_mode": {
    "name": "ipython",
    "version": 3
   },
   "file_extension": ".py",
   "mimetype": "text/x-python",
   "name": "python",
   "nbconvert_exporter": "python",
   "pygments_lexer": "ipython3",
   "version": "3.10.9"
  }
 },
 "nbformat": 4,
 "nbformat_minor": 5
}
