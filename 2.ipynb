{
 "cells": [
  {
   "cell_type": "markdown",
   "id": "e677a8ce",
   "metadata": {},
   "source": [
    "Supervised Learning:\n",
    "Supervised learning is a type of machine learning where the algorithm is trained on a labeled dataset, which means that each input data point is associated with a corresponding target label. The algorithm learns to map the input data to the correct output by generalizing from the labeled examples provided during training.\n",
    "\n",
    "Examples of Supervised Learning:\n",
    "\n",
    "Image Classification:\n",
    "\n",
    "Given a dataset of images with labeled categories (e.g., cats and dogs), the algorithm learns to classify new images into these categories.\n",
    "Speech Recognition:\n",
    "\n",
    "In this application, an algorithm is trained on audio data with corresponding transcriptions. It learns to recognize and transcribe spoken words.\n",
    "Text Classification:\n",
    "\n",
    "Supervised learning is used for tasks like sentiment analysis, where the algorithm learns to classify text documents into categories such as positive or negative sentiment.\n",
    "Spam Detection:\n",
    "\n",
    "Email filtering systems use supervised learning to identify whether an incoming email is spam or not based on a labeled dataset of spam and non-spam emails.\n",
    "Predictive Modeling:\n",
    "\n",
    "In finance, supervised learning can be applied to predict stock prices, where historical stock data with corresponding prices is used to train the model.\n",
    "Medical Diagnosis:\n",
    "\n",
    "Supervised learning is employed to develop models for disease diagnosis based on labeled medical data, helping to predict diseases from patient data.\n",
    "Handwriting Recognition:\n",
    "\n",
    "Optical character recognition (OCR) systems use supervised learning to recognize handwritten characters by training on labeled datasets."
   ]
  }
 ],
 "metadata": {
  "kernelspec": {
   "display_name": "Python 3 (ipykernel)",
   "language": "python",
   "name": "python3"
  },
  "language_info": {
   "codemirror_mode": {
    "name": "ipython",
    "version": 3
   },
   "file_extension": ".py",
   "mimetype": "text/x-python",
   "name": "python",
   "nbconvert_exporter": "python",
   "pygments_lexer": "ipython3",
   "version": "3.10.9"
  }
 },
 "nbformat": 4,
 "nbformat_minor": 5
}
