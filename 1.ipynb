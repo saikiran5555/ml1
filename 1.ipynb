{
 "cells": [
  {
   "cell_type": "markdown",
   "id": "82c80200",
   "metadata": {},
   "source": [
    "Artificial Intelligence (AI):\n",
    "\n",
    "AI refers to the simulation of human intelligence in machines that are programmed to think and learn like humans. It encompasses various technologies and approaches, including machine learning and deep learning.\n",
    "Machine Learning (ML):\n",
    "\n",
    "ML is a subset of AI that focuses on the development of algorithms and statistical models that enable machines to improve their performance on a task through experience. Instead of being explicitly programmed, machines learn from data.\n",
    "Deep Learning (DL):\n",
    "\n",
    "Deep learning is a specialized subset of machine learning that involves neural networks with multiple layers (deep neural networks). These deep networks are capable of learning and representing complex patterns in data."
   ]
  }
 ],
 "metadata": {
  "kernelspec": {
   "display_name": "Python 3 (ipykernel)",
   "language": "python",
   "name": "python3"
  },
  "language_info": {
   "codemirror_mode": {
    "name": "ipython",
    "version": 3
   },
   "file_extension": ".py",
   "mimetype": "text/x-python",
   "name": "python",
   "nbconvert_exporter": "python",
   "pygments_lexer": "ipython3",
   "version": "3.10.9"
  }
 },
 "nbformat": 4,
 "nbformat_minor": 5
}
